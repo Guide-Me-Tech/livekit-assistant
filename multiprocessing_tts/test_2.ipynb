{
 "cells": [
  {
   "cell_type": "code",
   "execution_count": 11,
   "metadata": {},
   "outputs": [
    {
     "name": "stdout",
     "output_type": "stream",
     "text": [
      "True\n"
     ]
    }
   ],
   "source": [
    "from kafka import KafkaProducer\n",
    "# config = {\n",
    "#     \"bootstrap_servers\": \"localhost:9092\",\n",
    "#     # 'client.id': socket.gethostname()\n",
    "# }\n",
    "\n",
    "producer = KafkaProducer(bootstrap_servers='localhost:9092')\n",
    "print(producer.bootstrap_connected())\n",
    "\n",
    "for i in range(100000):\n",
    "    producer.send(\"stt_work_messages\", value=b'{\"message\": \"Hello, World!\", \"work_id\": \"123\"}')\n"
   ]
  }
 ],
 "metadata": {
  "kernelspec": {
   "display_name": "livekit-assistant",
   "language": "python",
   "name": "python3"
  },
  "language_info": {
   "codemirror_mode": {
    "name": "ipython",
    "version": 3
   },
   "file_extension": ".py",
   "mimetype": "text/x-python",
   "name": "python",
   "nbconvert_exporter": "python",
   "pygments_lexer": "ipython3",
   "version": "3.11.6"
  }
 },
 "nbformat": 4,
 "nbformat_minor": 2
}
