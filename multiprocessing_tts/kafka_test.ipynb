{
 "cells": [
  {
   "cell_type": "code",
   "execution_count": 1,
   "metadata": {},
   "outputs": [],
   "source": [
    "from confluent_kafka import Consumer, Producer, KafkaError, KafkaException\n",
    "import sys\n",
    "\n",
    "\n"
   ]
  },
  {
   "cell_type": "code",
   "execution_count": 57,
   "metadata": {},
   "outputs": [],
   "source": [
    "from kafka import TopicPartition, KafkaConsumer\n",
    "\n",
    "# Create the consumer\n",
    "consumer = KafkaConsumer(bootstrap_servers='localhost:9092',\n",
    "                         auto_offset_reset='earliest',  # Start consuming from the earliest available message\n",
    "                         enable_auto_commit=False)       # Disable auto-commit of offsets\n",
    "\n",
    "# Manually assign a partition\n",
    "topic_partition = TopicPartition('tts_messages', 0)  # Assign partition 0\n",
    "consumer.assign([topic_partition])\n",
    "\n",
    "messages = [0] * 100000\n",
    "for msg in consumer:\n",
    "    messages[msg.offset] = msg.value\n",
    "    msg.timestamp\n",
    "    if msg.offset == 99999:\n",
    "        break\n"
   ]
  },
  {
   "cell_type": "code",
   "execution_count": 56,
   "metadata": {},
   "outputs": [
    {
     "data": {
      "text/plain": [
       "100000"
      ]
     },
     "execution_count": 56,
     "metadata": {},
     "output_type": "execute_result"
    }
   ],
   "source": []
  },
  {
   "cell_type": "code",
   "execution_count": null,
   "metadata": {},
   "outputs": [],
   "source": [
    "# from confluent_kafka import Consumer\n",
    "\n",
    "# conf = {'bootstrap.servers': 'host1:9092,host2:9092',\n",
    "#         'group.id': 'foo',\n",
    "#         'enable.auto.commit': 'false',\n",
    "#         'auto.offset.reset': 'earliest'}\n",
    "# # \n",
    "# consumer = Consumer(conf)"
   ]
  },
  {
   "cell_type": "code",
   "execution_count": null,
   "metadata": {},
   "outputs": [],
   "source": [
    "# running = True\n",
    "\n",
    "# def basic_consume_loop(consumer, topics):\n",
    "#     try:\n",
    "#         consumer.subscribe(topics)\n",
    "\n",
    "#         while running:\n",
    "#             msg = consumer.poll(timeout=1.0)\n",
    "#             if msg is None: continue\n",
    "\n",
    "#             if msg.error():\n",
    "#                 if msg.error().code() == KafkaError._PARTITION_EOF:\n",
    "#                     # End of partition event\n",
    "#                     sys.stderr.write('%% %s [%d] reached end at offset %d\\n' %\n",
    "#                                      (msg.topic(), msg.partition(), msg.offset()))\n",
    "#                 elif msg.error():\n",
    "#                     raise KafkaException(msg.error())\n",
    "#             else:\n",
    "#                 msg_process(msg)\n",
    "#     finally:\n",
    "#         # Close down consumer to commit final offsets.\n",
    "#         consumer.close()\n",
    "\n",
    "# def shutdown():\n",
    "#     running = False"
   ]
  },
  {
   "cell_type": "code",
   "execution_count": 38,
   "metadata": {},
   "outputs": [
    {
     "name": "stdout",
     "output_type": "stream",
     "text": [
      "True\n"
     ]
    }
   ],
   "source": [
    "from kafka import KafkaProducer\n",
    "# config = {\n",
    "#     \"bootstrap_servers\": \"localhost:9092\",\n",
    "#     # 'client.id': socket.gethostname()\n",
    "# }\n",
    "\n",
    "producer = KafkaProducer(bootstrap_servers='localhost:9092')\n",
    "print(producer.bootstrap_connected())\n"
   ]
  },
  {
   "cell_type": "code",
   "execution_count": 36,
   "metadata": {},
   "outputs": [],
   "source": [
    "producer.flush()\n"
   ]
  },
  {
   "cell_type": "code",
   "execution_count": 79,
   "metadata": {},
   "outputs": [],
   "source": [
    "import json\n",
    "num = 1000\n",
    "objects = [{\n",
    "        \"message\":\"Today I was a given a task to build a system that can process audio files and convert them to text. I have a lot of experience in this area, having worked on similar projects in the past. I am confident that I can handle this task and deliver a high-quality solution.\", \n",
    "        \"language\":\"en\", \n",
    "        \"voice\":\"female\",\n",
    "        \"speed\":1.0,\n",
    "        \"shm_name\":f\"shm_{i}\",\n",
    "        \"id\":i\n",
    "    } for i in range(num)]\n",
    "\n",
    "objects_json = [json.dumps(obj) for obj in objects]\n",
    "objects_bytes = [obj.encode('utf-8') for obj in objects_json]"
   ]
  },
  {
   "cell_type": "code",
   "execution_count": 82,
   "metadata": {},
   "outputs": [],
   "source": [
    "\n",
    "for i in range(num):\n",
    "    producer.send('tts_messages', value=objects_bytes[i])\n"
   ]
  },
  {
   "cell_type": "code",
   "execution_count": 70,
   "metadata": {},
   "outputs": [
    {
     "name": "stdout",
     "output_type": "stream",
     "text": [
      "Topic 'tts_messages' created successfully with retention period of 3600000 ms.\n"
     ]
    }
   ],
   "source": [
    "from kafka.admin import KafkaAdminClient, NewTopic\n",
    "def create_topic_with_retention(\n",
    "        topic_name: str,\n",
    "        num_partitions: int = 1,\n",
    "        replication_factor: int = 1,\n",
    "        retention_ms: int = 604800000,\n",
    "    ):\n",
    "    admin_client = KafkaAdminClient(\n",
    "        bootstrap_servers='localhost:9092'\n",
    "    )\n",
    "    topic_configs = {\"retention.ms\": str(retention_ms)}\n",
    "    new_topic = NewTopic(\n",
    "        name=topic_name,\n",
    "        num_partitions=num_partitions,\n",
    "        replication_factor=replication_factor,\n",
    "        topic_configs=topic_configs,\n",
    "    )\n",
    "    try:\n",
    "        admin_client.create_topics([new_topic])\n",
    "        print(\n",
    "            f\"Topic '{topic_name}' created successfully with retention period of {retention_ms} ms.\"\n",
    "        )\n",
    "    except Exception as e:\n",
    "        print(f\"Failed to create topic: {e}\")\n",
    "    finally:\n",
    "        admin_client.close()\n",
    "create_topic_with_retention(\"tts_messages\", retention_ms=1000 * 60 * 60) # 1 hour"
   ]
  }
 ],
 "metadata": {
  "kernelspec": {
   "display_name": "livekit-assistant",
   "language": "python",
   "name": "python3"
  },
  "language_info": {
   "codemirror_mode": {
    "name": "ipython",
    "version": 3
   },
   "file_extension": ".py",
   "mimetype": "text/x-python",
   "name": "python",
   "nbconvert_exporter": "python",
   "pygments_lexer": "ipython3",
   "version": "3.11.6"
  }
 },
 "nbformat": 4,
 "nbformat_minor": 2
}
